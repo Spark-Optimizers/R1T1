{
 "cells": [
  {
   "cell_type": "markdown",
   "metadata": {},
   "source": [
    "# R1T1"
   ]
  },
  {
   "cell_type": "markdown",
   "metadata": {},
   "source": [
    "## Openning Data"
   ]
  },
  {
   "cell_type": "code",
   "execution_count": 11,
   "metadata": {},
   "outputs": [],
   "source": [
    "using MAT\n",
    "using LinearAlgebra\n",
    "using SparseArrays\n",
    "using JuMP\n",
    "using GLPK"
   ]
  },
  {
   "cell_type": "code",
   "execution_count": 9,
   "metadata": {},
   "outputs": [
    {
     "data": {
      "text/plain": [
       "3-element Array{String,1}:\n",
       " \"S\"\n",
       " \"l1\"\n",
       " \"u1\""
      ]
     },
     "execution_count": 9,
     "metadata": {},
     "output_type": "execute_result"
    }
   ],
   "source": [
    "file = matopen(\"R1T1.mat\")\n",
    "varnames = names(file)"
   ]
  },
  {
   "cell_type": "code",
   "execution_count": 38,
   "metadata": {},
   "outputs": [
    {
     "data": {
      "text/plain": [
       "Dict{String,Any} with 3 entries:\n",
       "  \"nzval\" => [0.0945981, 0.0962594, 0.00953525, 0.352967, 1.61011, 1.45645, 0.9…\n",
       "  \"nzind\" => [2, 3, 4, 10, 14, 15, 17, 21, 27, 36  …  77, 80, 83, 84, 85, 87, 8…\n",
       "  \"n\"     => 95"
      ]
     },
     "execution_count": 38,
     "metadata": {},
     "output_type": "execute_result"
    }
   ],
   "source": [
    "S = read(file, \"S\")\n",
    "l1 = read(file, \"l1\")\n",
    "u1 = read(file, \"u1\")"
   ]
  },
  {
   "cell_type": "code",
   "execution_count": 43,
   "metadata": {},
   "outputs": [
    {
     "data": {
      "text/plain": [
       "95-element SparseVector{Float64,Int64} with 41 stored entries:\n",
       "  [1 ]  =  -0.567967\n",
       "  [2 ]  =  -0.411144\n",
       "  [5 ]  =  -0.324701\n",
       "  [7 ]  =  -0.799832\n",
       "  [23]  =  -1.20169\n",
       "  [24]  =  -0.98075\n",
       "  [25]  =  -2.04877\n",
       "  [26]  =  -1.45278\n",
       "  [28]  =  -3.52789\n",
       "  [29]  =  -1.24286\n",
       "        ⋮\n",
       "  [75]  =  -1.67909\n",
       "  [76]  =  -9.87177e-18\n",
       "  [81]  =  -0.315631\n",
       "  [82]  =  -1.15417\n",
       "  [83]  =  -0.906035\n",
       "  [86]  =  -0.881084\n",
       "  [89]  =  -1.27967\n",
       "  [91]  =  -1.50791\n",
       "  [92]  =  0.0546867\n",
       "  [94]  =  -0.643764\n",
       "  [95]  =  -0.87322"
      ]
     },
     "execution_count": 43,
     "metadata": {},
     "output_type": "execute_result"
    }
   ],
   "source": [
    "l1_nzval = l1[\"nzval\"]\n",
    "l1_nzind = l1[\"nzind\"]\n",
    "l1_n = l1[\"n\"]\n",
    "l = SparseVector(l1_n, l1_nzind, l1_nzval)"
   ]
  },
  {
   "cell_type": "code",
   "execution_count": 44,
   "metadata": {},
   "outputs": [
    {
     "data": {
      "text/plain": [
       "95-element SparseVector{Float64,Int64} with 40 stored entries:\n",
       "  [2 ]  =  0.0945981\n",
       "  [3 ]  =  0.0962594\n",
       "  [4 ]  =  0.00953525\n",
       "  [10]  =  0.352967\n",
       "  [14]  =  1.61011\n",
       "  [15]  =  1.45645\n",
       "  [17]  =  0.954616\n",
       "  [21]  =  0.311844\n",
       "  [27]  =  0.146057\n",
       "  [36]  =  -7.21753e-18\n",
       "        ⋮\n",
       "  [76]  =  6.10131e-19\n",
       "  [77]  =  1.26479\n",
       "  [80]  =  1.3062\n",
       "  [83]  =  0.77279\n",
       "  [84]  =  1.63928\n",
       "  [85]  =  1.78739\n",
       "  [87]  =  1.0817\n",
       "  [89]  =  -0.9569\n",
       "  [90]  =  1.56944\n",
       "  [92]  =  0.814742\n",
       "  [93]  =  0.0176237"
      ]
     },
     "execution_count": 44,
     "metadata": {},
     "output_type": "execute_result"
    }
   ],
   "source": [
    "u1_nzval = u1[\"nzval\"]\n",
    "u1_nzind = u1[\"nzind\"]\n",
    "u1_n = u1[\"n\"]\n",
    "u = SparseVector(u1_n, u1_nzind, u1_nzval)"
   ]
  },
  {
   "cell_type": "code",
   "execution_count": 49,
   "metadata": {},
   "outputs": [
    {
     "data": {
      "text/plain": [
       "(72, 95)"
      ]
     },
     "execution_count": 49,
     "metadata": {},
     "output_type": "execute_result"
    }
   ],
   "source": [
    "m,n = size(S)"
   ]
  },
  {
   "cell_type": "code",
   "execution_count": 51,
   "metadata": {},
   "outputs": [],
   "source": [
    "mzeros = zeros(m,1);"
   ]
  },
  {
   "cell_type": "markdown",
   "metadata": {},
   "source": [
    "## Constructing  Model"
   ]
  },
  {
   "cell_type": "code",
   "execution_count": 52,
   "metadata": {},
   "outputs": [
    {
     "data": {
      "text/plain": [
       "1"
      ]
     },
     "execution_count": 52,
     "metadata": {},
     "output_type": "execute_result"
    }
   ],
   "source": [
    "model = Model(GLPK.Optimizer)\n",
    "@variable(model,v[1:n])\n",
    "@constraint(model, l .<= v)\n",
    "@constraint(model, v .<= u)\n",
    "@constraint(model, S*v .== mzeros)\n",
    "@objective(model,Min,1)"
   ]
  },
  {
   "cell_type": "code",
   "execution_count": 53,
   "metadata": {},
   "outputs": [],
   "source": [
    "optimize!(model)"
   ]
  },
  {
   "cell_type": "code",
   "execution_count": 54,
   "metadata": {},
   "outputs": [
    {
     "name": "stdout",
     "output_type": "stream",
     "text": [
      "termination_status(model) = MathOptInterface.OPTIMAL\n",
      "primal_status(model) = MathOptInterface.FEASIBLE_POINT\n",
      "dual_status(model) = MathOptInterface.FEASIBLE_POINT\n",
      "objective_value(model) = 1.0\n",
      "JuMP.value.(v) = [0.0, 0.0, 0.0, 0.0, 0.0, 0.0, 0.0, 0.0, 0.0, 0.0, 0.0, 0.0, 0.0, 0.0, 0.0, 0.0, 0.0, 0.0, 0.0, 0.0, 0.0, 0.0, 0.0, 0.0, 0.0, 0.0, 0.0, 0.0, 0.0, 0.0, 0.0, 0.0, 0.0, 0.0, 0.0, 0.0, 0.0, 0.0, 0.0, 0.0, 0.0, -0.10937336742125003, -0.10937336742125003, -0.9569002300321277, 0.0, 0.0, 0.0, 0.0, 0.0, 0.0, 0.0, 0.0, 0.0, 0.0, 0.0, 0.0, 0.0, 0.0, 0.0, 0.0, 0.0, 0.0, 0.0, 0.0, 0.38616393690226897, -0.38616393690226897, 0.0, -0.33147725319164395, 0.0, 0.0, 0.0, 0.0, 0.0, 0.0, 0.0, 0.0, 0.0, 0.0, 0.0, 0.0, 0.0, 0.0, 0.0, 0.0, 0.0, 0.0, 0.0, 0.0, -0.9569002300321277, 0.0, 0.0, 0.05468668371062502, 0.0, 0.0, 0.0]\n"
     ]
    },
    {
     "data": {
      "text/plain": [
       "95-element Array{Float64,1}:\n",
       "  0.0\n",
       "  0.0\n",
       "  0.0\n",
       "  0.0\n",
       "  0.0\n",
       "  0.0\n",
       "  0.0\n",
       "  0.0\n",
       "  0.0\n",
       "  0.0\n",
       "  0.0\n",
       "  0.0\n",
       "  0.0\n",
       "  ⋮\n",
       "  0.0\n",
       "  0.0\n",
       "  0.0\n",
       "  0.0\n",
       "  0.0\n",
       " -0.9569002300321277\n",
       "  0.0\n",
       "  0.0\n",
       "  0.05468668371062502\n",
       "  0.0\n",
       "  0.0\n",
       "  0.0"
      ]
     },
     "execution_count": 54,
     "metadata": {},
     "output_type": "execute_result"
    }
   ],
   "source": [
    "@show termination_status(model)\n",
    "@show primal_status(model)\n",
    "@show dual_status(model)\n",
    "@show objective_value(model)\n",
    "@show JuMP.value.(v)"
   ]
  },
  {
   "cell_type": "code",
   "execution_count": 55,
   "metadata": {},
   "outputs": [
    {
     "data": {
      "text/plain": [
       "95-element Array{Float64,1}:\n",
       "  0.0\n",
       "  0.0\n",
       "  0.0\n",
       "  0.0\n",
       "  0.0\n",
       "  0.0\n",
       "  0.0\n",
       "  0.0\n",
       "  0.0\n",
       "  0.0\n",
       "  0.0\n",
       "  0.0\n",
       "  0.0\n",
       "  ⋮\n",
       "  0.0\n",
       "  0.0\n",
       "  0.0\n",
       "  0.0\n",
       "  0.0\n",
       " -0.9569002300321277\n",
       "  0.0\n",
       "  0.0\n",
       "  0.05468668371062502\n",
       "  0.0\n",
       "  0.0\n",
       "  0.0"
      ]
     },
     "execution_count": 55,
     "metadata": {},
     "output_type": "execute_result"
    }
   ],
   "source": [
    "v = JuMP.value.(v)"
   ]
  },
  {
   "cell_type": "markdown",
   "metadata": {},
   "source": [
    "## writing to putput file"
   ]
  },
  {
   "cell_type": "code",
   "execution_count": 60,
   "metadata": {},
   "outputs": [],
   "source": [
    "using DelimitedFiles\n",
    "open(\"output.txt\",\"w\") do io\n",
    "    writedlm(io, v)\n",
    "end"
   ]
  },
  {
   "cell_type": "code",
   "execution_count": null,
   "metadata": {},
   "outputs": [],
   "source": []
  }
 ],
 "metadata": {
  "kernelspec": {
   "display_name": "Julia 1.5.3",
   "language": "julia",
   "name": "julia-1.5"
  },
  "language_info": {
   "file_extension": ".jl",
   "mimetype": "application/julia",
   "name": "julia",
   "version": "1.5.3"
  }
 },
 "nbformat": 4,
 "nbformat_minor": 4
}
